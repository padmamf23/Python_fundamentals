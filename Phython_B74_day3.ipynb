{
 "cells": [
  {
   "cell_type": "code",
   "execution_count": 5,
   "id": "e840894c",
   "metadata": {},
   "outputs": [
    {
     "name": "stdout",
     "output_type": "stream",
     "text": [
      "mohith kumar\n"
     ]
    }
   ],
   "source": [
    "first_name='mohith'\n",
    "last_name='kumar'\n",
    "fullname=f\"{first_name} {last_name}\"\n",
    "print(fullname)"
   ]
  },
  {
   "cell_type": "code",
   "execution_count": 7,
   "id": "7b76b010",
   "metadata": {},
   "outputs": [
    {
     "name": "stdout",
     "output_type": "stream",
     "text": [
      "please good work, Mohith Kumar\n"
     ]
    }
   ],
   "source": [
    "message=f\"please good work, {full_name.title()}\"\n",
    "print(message)"
   ]
  },
  {
   "cell_type": "code",
   "execution_count": null,
   "id": "e83b8dec",
   "metadata": {},
   "outputs": [],
   "source": [
    "\\n line delimeter and \\t tab delimeter"
   ]
  },
  {
   "cell_type": "code",
   "execution_count": 11,
   "id": "dea37e3b",
   "metadata": {},
   "outputs": [
    {
     "name": "stdout",
     "output_type": "stream",
     "text": [
      "favourite_programming_language:\n",
      "python\n",
      "java\n",
      "C++\n",
      "swift\n",
      "pascal\n",
      "cobol\n"
     ]
    }
   ],
   "source": [
    "print(\"favourite_programming_language:\\npython\\njava\\nC++\\nswift\\npascal\\ncobol\")"
   ]
  },
  {
   "cell_type": "code",
   "execution_count": 12,
   "id": "b7451896",
   "metadata": {},
   "outputs": [
    {
     "name": "stdout",
     "output_type": "stream",
     "text": [
      "favourite_programming_language:\n",
      "\tpython\n",
      "\tjava\n",
      "\tC++\n",
      "\tswift\n",
      "\tpascal\n",
      "\tcobol\n"
     ]
    }
   ],
   "source": [
    "print(\"favourite_programming_language:\\n\\tpython\\n\\tjava\\n\\tC++\\n\\tswift\\n\\tpascal\\n\\tcobol\")"
   ]
  },
  {
   "cell_type": "code",
   "execution_count": null,
   "id": "517c2ade",
   "metadata": {},
   "outputs": [],
   "source": [
    "removing white spaces frin strings"
   ]
  },
  {
   "cell_type": "code",
   "execution_count": 14,
   "id": "5d89331b",
   "metadata": {},
   "outputs": [
    {
     "name": "stdout",
     "output_type": "stream",
     "text": [
      "python\n"
     ]
    }
   ],
   "source": [
    "name= 'python'\n",
    "print(name)"
   ]
  },
  {
   "cell_type": "code",
   "execution_count": 19,
   "id": "5e4bfb7a",
   "metadata": {},
   "outputs": [
    {
     "name": "stdout",
     "output_type": "stream",
     "text": [
      "   python\n"
     ]
    }
   ],
   "source": [
    "name2='   python'\n",
    "print(name2)"
   ]
  },
  {
   "cell_type": "code",
   "execution_count": 20,
   "id": "7feff279",
   "metadata": {},
   "outputs": [
    {
     "data": {
      "text/plain": [
       "'python'"
      ]
     },
     "execution_count": 20,
     "metadata": {},
     "output_type": "execute_result"
    }
   ],
   "source": [
    "name2.lstrip()\n"
   ]
  },
  {
   "cell_type": "code",
   "execution_count": 21,
   "id": "40eabc23",
   "metadata": {},
   "outputs": [
    {
     "data": {
      "text/plain": [
       "'python'"
      ]
     },
     "execution_count": 21,
     "metadata": {},
     "output_type": "execute_result"
    }
   ],
   "source": [
    "name3='python   '\n",
    "name3.rstrip()"
   ]
  },
  {
   "cell_type": "code",
   "execution_count": null,
   "id": "41049c51",
   "metadata": {},
   "outputs": [],
   "source": []
  }
 ],
 "metadata": {
  "kernelspec": {
   "display_name": "Python 3 (ipykernel)",
   "language": "python",
   "name": "python3"
  },
  "language_info": {
   "codemirror_mode": {
    "name": "ipython",
    "version": 3
   },
   "file_extension": ".py",
   "mimetype": "text/x-python",
   "name": "python",
   "nbconvert_exporter": "python",
   "pygments_lexer": "ipython3",
   "version": "3.9.13"
  }
 },
 "nbformat": 4,
 "nbformat_minor": 5
}
