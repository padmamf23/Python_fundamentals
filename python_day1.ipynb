{
 "cells": [
  {
   "cell_type": "code",
   "execution_count": 1,
   "id": "4de00849",
   "metadata": {},
   "outputs": [
    {
     "name": "stdout",
     "output_type": "stream",
     "text": [
      "hello world, welcome to python\n"
     ]
    }
   ],
   "source": [
    "print('hello world, welcome to python')"
   ]
  },
  {
   "cell_type": "code",
   "execution_count": 18,
   "id": "c8cf4e79",
   "metadata": {},
   "outputs": [],
   "source": [
    "x=5\n",
    "y=9"
   ]
  },
  {
   "cell_type": "code",
   "execution_count": 19,
   "id": "9486071b",
   "metadata": {},
   "outputs": [
    {
     "name": "stdout",
     "output_type": "stream",
     "text": [
      "14\n"
     ]
    }
   ],
   "source": [
    "z=x+y\n",
    "print(z)"
   ]
  },
  {
   "cell_type": "code",
   "execution_count": 21,
   "id": "6a8eb751",
   "metadata": {},
   "outputs": [
    {
     "name": "stdout",
     "output_type": "stream",
     "text": [
      "padma\n"
     ]
    }
   ],
   "source": [
    "firstname='padma'\n",
    "print(firstname)"
   ]
  },
  {
   "cell_type": "code",
   "execution_count": 23,
   "id": "80e1e049",
   "metadata": {},
   "outputs": [
    {
     "name": "stdout",
     "output_type": "stream",
     "text": [
      "john\n"
     ]
    }
   ],
   "source": [
    "name='john'\n",
    "print(name)"
   ]
  },
  {
   "cell_type": "code",
   "execution_count": 24,
   "id": "3e7cec7f",
   "metadata": {},
   "outputs": [
    {
     "name": "stdout",
     "output_type": "stream",
     "text": [
      "RAVI TEJA\n"
     ]
    }
   ],
   "source": [
    "fullname='ravi teja'\n",
    "print(fullname.upper())"
   ]
  },
  {
   "cell_type": "code",
   "execution_count": 25,
   "id": "f96b8931",
   "metadata": {},
   "outputs": [
    {
     "name": "stdout",
     "output_type": "stream",
     "text": [
      "radha\n"
     ]
    }
   ],
   "source": [
    "fullname='Radha'\n",
    "print(fullname.lower())"
   ]
  },
  {
   "cell_type": "code",
   "execution_count": null,
   "id": "ac48fe15",
   "metadata": {},
   "outputs": [],
   "source": []
  }
 ],
 "metadata": {
  "kernelspec": {
   "display_name": "Python 3 (ipykernel)",
   "language": "python",
   "name": "python3"
  },
  "language_info": {
   "codemirror_mode": {
    "name": "ipython",
    "version": 3
   },
   "file_extension": ".py",
   "mimetype": "text/x-python",
   "name": "python",
   "nbconvert_exporter": "python",
   "pygments_lexer": "ipython3",
   "version": "3.9.13"
  }
 },
 "nbformat": 4,
 "nbformat_minor": 5
}
