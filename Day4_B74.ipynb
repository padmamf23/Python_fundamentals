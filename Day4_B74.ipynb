{
 "cells": [
  {
   "cell_type": "code",
   "execution_count": 5,
   "id": "8e99ff3f",
   "metadata": {},
   "outputs": [],
   "source": [
    "students= [ 'padma','lavanya','sindhu','navya' ]"
   ]
  },
  {
   "cell_type": "code",
   "execution_count": 7,
   "id": "64a61826",
   "metadata": {},
   "outputs": [
    {
     "data": {
      "text/plain": [
       "list"
      ]
     },
     "execution_count": 7,
     "metadata": {},
     "output_type": "execute_result"
    }
   ],
   "source": [
    "type(students)"
   ]
  },
  {
   "cell_type": "code",
   "execution_count": 8,
   "id": "d6de3cb5",
   "metadata": {},
   "outputs": [
    {
     "name": "stdout",
     "output_type": "stream",
     "text": [
      "['padma', 'lavanya', 'sindhu', 'navya']\n"
     ]
    }
   ],
   "source": [
    "print(students)"
   ]
  },
  {
   "cell_type": "code",
   "execution_count": 9,
   "id": "4c4fb2f9",
   "metadata": {},
   "outputs": [
    {
     "name": "stdout",
     "output_type": "stream",
     "text": [
      "lavanya\n"
     ]
    }
   ],
   "source": [
    "print(students[1])"
   ]
  },
  {
   "cell_type": "code",
   "execution_count": 10,
   "id": "a8b1828a",
   "metadata": {},
   "outputs": [
    {
     "name": "stdout",
     "output_type": "stream",
     "text": [
      "navya\n"
     ]
    }
   ],
   "source": [
    "print(students[3])"
   ]
  },
  {
   "cell_type": "code",
   "execution_count": 12,
   "id": "c95b8d60",
   "metadata": {},
   "outputs": [
    {
     "name": "stdout",
     "output_type": "stream",
     "text": [
      "Sindhu\n"
     ]
    }
   ],
   "source": [
    "print(students[2].title())"
   ]
  },
  {
   "cell_type": "code",
   "execution_count": 18,
   "id": "a86d14f0",
   "metadata": {},
   "outputs": [],
   "source": [
    "students.append('hansini')"
   ]
  },
  {
   "cell_type": "code",
   "execution_count": 24,
   "id": "60b0467d",
   "metadata": {},
   "outputs": [
    {
     "name": "stdout",
     "output_type": "stream",
     "text": [
      "['padma', 'anu', 'lavanya', 'sindhu', 'navya', 'hansini', 'hasini']\n"
     ]
    }
   ],
   "source": [
    "print(students)"
   ]
  },
  {
   "cell_type": "code",
   "execution_count": 20,
   "id": "fadf2f76",
   "metadata": {},
   "outputs": [],
   "source": [
    "students.insert(1,'anu')"
   ]
  },
  {
   "cell_type": "code",
   "execution_count": 21,
   "id": "8af453a5",
   "metadata": {},
   "outputs": [
    {
     "name": "stdout",
     "output_type": "stream",
     "text": [
      "['padma', 'anu', 'lavanya', 'sindhu', 'navya', 'hansini', 'hasini']\n"
     ]
    }
   ],
   "source": [
    "print(students)"
   ]
  },
  {
   "cell_type": "code",
   "execution_count": 22,
   "id": "7a7acfc6",
   "metadata": {},
   "outputs": [
    {
     "name": "stdout",
     "output_type": "stream",
     "text": [
      "Anu\n"
     ]
    }
   ],
   "source": [
    "print(students[1].title())"
   ]
  },
  {
   "cell_type": "code",
   "execution_count": null,
   "id": "2283eb37",
   "metadata": {},
   "outputs": [],
   "source": [
    "modify name\n"
   ]
  },
  {
   "cell_type": "code",
   "execution_count": 27,
   "id": "3faf7f0a",
   "metadata": {},
   "outputs": [],
   "source": [
    "students[0]='raju'"
   ]
  },
  {
   "cell_type": "code",
   "execution_count": 28,
   "id": "35f4b6fc",
   "metadata": {},
   "outputs": [
    {
     "name": "stdout",
     "output_type": "stream",
     "text": [
      "['raju', 'anu', 'lavanya', 'sindhu', 'navya', 'hansini', 'hasini']\n"
     ]
    }
   ],
   "source": [
    "print(students)"
   ]
  },
  {
   "cell_type": "code",
   "execution_count": 31,
   "id": "b5a5b212",
   "metadata": {},
   "outputs": [],
   "source": [
    "del students[3]"
   ]
  },
  {
   "cell_type": "raw",
   "id": "6e761265",
   "metadata": {},
   "source": [
    "print(students)"
   ]
  },
  {
   "cell_type": "code",
   "execution_count": 32,
   "id": "2ea2c417",
   "metadata": {},
   "outputs": [
    {
     "name": "stdout",
     "output_type": "stream",
     "text": [
      "['raju', 'anu', 'lavanya', 'hansini']\n"
     ]
    }
   ],
   "source": [
    "print(students)"
   ]
  },
  {
   "cell_type": "code",
   "execution_count": 33,
   "id": "bd59cf28",
   "metadata": {},
   "outputs": [
    {
     "name": "stdout",
     "output_type": "stream",
     "text": [
      "['raju', 'anu', 'lavanya', 'sindhu', 'navya', 'hansini', 'hasini']\n"
     ]
    }
   ],
   "source": [
    "students= ['raju', 'anu', 'lavanya', 'sindhu', 'navya', 'hansini', 'hasini']\n",
    "print(students)"
   ]
  },
  {
   "cell_type": "code",
   "execution_count": 34,
   "id": "4441773c",
   "metadata": {},
   "outputs": [
    {
     "name": "stdout",
     "output_type": "stream",
     "text": [
      "['raju', 'anu', 'lavanya', 'navya', 'hansini', 'hasini']\n"
     ]
    }
   ],
   "source": [
    "del students[3]\n",
    "print(students)"
   ]
  },
  {
   "cell_type": "code",
   "execution_count": null,
   "id": "6ee894e0",
   "metadata": {},
   "outputs": [],
   "source": [
    "deleting last element\n"
   ]
  },
  {
   "cell_type": "code",
   "execution_count": 35,
   "id": "9a37d183",
   "metadata": {},
   "outputs": [
    {
     "name": "stdout",
     "output_type": "stream",
     "text": [
      "['raju', 'anu', 'lavanya', 'navya', 'hansini']\n"
     ]
    }
   ],
   "source": [
    "x=students.pop()\n",
    "print(students)"
   ]
  },
  {
   "cell_type": "code",
   "execution_count": 36,
   "id": "0a1c242f",
   "metadata": {},
   "outputs": [
    {
     "name": "stdout",
     "output_type": "stream",
     "text": [
      "hasini\n"
     ]
    }
   ],
   "source": [
    "print(x)"
   ]
  },
  {
   "cell_type": "code",
   "execution_count": null,
   "id": "ae79d6b3",
   "metadata": {},
   "outputs": [],
   "source": [
    "negative indexing reverse order -1,-2,-3\n"
   ]
  },
  {
   "cell_type": "code",
   "execution_count": 38,
   "id": "052cef4d",
   "metadata": {
    "scrolled": true
   },
   "outputs": [
    {
     "name": "stdout",
     "output_type": "stream",
     "text": [
      "hansini\n"
     ]
    }
   ],
   "source": [
    "print(students[-1])"
   ]
  },
  {
   "cell_type": "code",
   "execution_count": 39,
   "id": "56e973bd",
   "metadata": {},
   "outputs": [
    {
     "name": "stdout",
     "output_type": "stream",
     "text": [
      "navya\n"
     ]
    }
   ],
   "source": [
    "print(students[-2])"
   ]
  },
  {
   "cell_type": "code",
   "execution_count": null,
   "id": "4de9ddf6",
   "metadata": {},
   "outputs": [],
   "source": []
  }
 ],
 "metadata": {
  "kernelspec": {
   "display_name": "Python 3 (ipykernel)",
   "language": "python",
   "name": "python3"
  },
  "language_info": {
   "codemirror_mode": {
    "name": "ipython",
    "version": 3
   },
   "file_extension": ".py",
   "mimetype": "text/x-python",
   "name": "python",
   "nbconvert_exporter": "python",
   "pygments_lexer": "ipython3",
   "version": "3.9.13"
  }
 },
 "nbformat": 4,
 "nbformat_minor": 5
}
